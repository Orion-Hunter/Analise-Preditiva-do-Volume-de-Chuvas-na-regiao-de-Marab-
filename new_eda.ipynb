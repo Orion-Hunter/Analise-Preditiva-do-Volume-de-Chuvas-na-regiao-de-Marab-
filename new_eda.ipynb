{
 "cells": [
  {
   "cell_type": "code",
   "execution_count": 7,
   "metadata": {},
   "outputs": [],
   "source": [
    "# Imports and Loads"
   ]
  },
  {
   "cell_type": "code",
   "execution_count": 2,
   "metadata": {},
   "outputs": [],
   "source": [
    "from base import *"
   ]
  },
  {
   "cell_type": "code",
   "execution_count": 3,
   "metadata": {},
   "outputs": [],
   "source": [
    "ATLANTICO_NORTE = AtlanticoNorte()\n",
    "ATLANTICO_SUL = AtlanticoSul()\n",
    "PACIFICO_SUL = PacificoSul()\n",
    "NINO = Nino()\n",
    "COORDENADAS = Coordenadas()\n",
    "PRECIPITACAO = Precipitacao()"
   ]
  },
  {
   "cell_type": "code",
   "execution_count": null,
   "metadata": {},
   "outputs": [],
   "source": []
  },
  {
   "cell_type": "code",
   "execution_count": 10,
   "metadata": {},
   "outputs": [],
   "source": [
    "# Check Data Structures"
   ]
  },
  {
   "cell_type": "code",
   "execution_count": 10,
   "metadata": {},
   "outputs": [
    {
     "data": {
      "text/plain": [
       "(20, (468, 40), (468, 35), (468, 5), (468, 25))"
      ]
     },
     "execution_count": 10,
     "metadata": {},
     "output_type": "execute_result"
    }
   ],
   "source": [
    "ATLANTICO_NORTE.data.shape[1], ATLANTICO_SUL.data.shape, PACIFICO_SUL.data.shape, NINO.data.shape, PRECIPITACAO.data.shape"
   ]
  },
  {
   "cell_type": "code",
   "execution_count": 11,
   "metadata": {},
   "outputs": [],
   "source": [
    "def check_dimensions(datas):\n",
    "    for r in datas:\n",
    "        print(\"{}   -  Rows: {}   Columns: {}\".format(r.name, r.shape[0], r.shape[1]))\n",
    "        print()"
   ]
  },
  {
   "cell_type": "code",
   "execution_count": 12,
   "metadata": {},
   "outputs": [],
   "source": [
    "def check_nan_fields(datas):\n",
    "    for r in datas:\n",
    "        print(str(r.name)+\"  -  \"+str(sum(r.isna().sum().values)))\n",
    "        print()"
   ]
  },
  {
   "cell_type": "code",
   "execution_count": 8,
   "metadata": {},
   "outputs": [
    {
     "name": "stdout",
     "output_type": "stream",
     "text": [
      "ATLANTICO_NORTE  -  0\n",
      "\n",
      "ATLANTICO_SUL  -  0\n",
      "\n",
      "PACIFICO_SUL  -  0\n",
      "\n",
      "NINO  -  0\n",
      "\n",
      "COORDENADAS  -  0\n",
      "\n",
      "PRECIPITACAO  -  0\n",
      "\n"
     ]
    }
   ],
   "source": [
    "check_nan_fields([ATLANTICO_NORTE.data, ATLANTICO_SUL.data, PACIFICO_SUL.data, NINO.data, COORDENADAS.data, PRECIPITACAO.data])"
   ]
  },
  {
   "cell_type": "code",
   "execution_count": 13,
   "metadata": {},
   "outputs": [
    {
     "name": "stdout",
     "output_type": "stream",
     "text": [
      "ATLANTICO_NORTE   -  Rows: 468   Columns: 20\n",
      "\n",
      "ATLANTICO_SUL   -  Rows: 468   Columns: 40\n",
      "\n",
      "PACIFICO_SUL   -  Rows: 468   Columns: 35\n",
      "\n",
      "NINO   -  Rows: 468   Columns: 5\n",
      "\n",
      "COORDENADAS   -  Rows: 24   Columns: 3\n",
      "\n",
      "PRECIPITACAO   -  Rows: 468   Columns: 25\n",
      "\n"
     ]
    }
   ],
   "source": [
    "check_dimensions([ATLANTICO_NORTE.data, ATLANTICO_SUL.data, PACIFICO_SUL.data, NINO.data, COORDENADAS.data, PRECIPITACAO.data])"
   ]
  },
  {
   "cell_type": "code",
   "execution_count": null,
   "metadata": {},
   "outputs": [],
   "source": []
  },
  {
   "cell_type": "code",
   "execution_count": null,
   "metadata": {},
   "outputs": [],
   "source": []
  }
 ],
 "metadata": {
  "kernelspec": {
   "display_name": "Python 3",
   "language": "python",
   "name": "python3"
  },
  "language_info": {
   "codemirror_mode": {
    "name": "ipython",
    "version": 3
   },
   "file_extension": ".py",
   "mimetype": "text/x-python",
   "name": "python",
   "nbconvert_exporter": "python",
   "pygments_lexer": "ipython3",
   "version": "3.8.5"
  }
 },
 "nbformat": 4,
 "nbformat_minor": 4
}
